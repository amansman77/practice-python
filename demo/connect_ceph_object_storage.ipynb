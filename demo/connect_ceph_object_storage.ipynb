{
 "cells": [
  {
   "cell_type": "code",
   "execution_count": 1,
   "metadata": {},
   "outputs": [
    {
     "name": "stdout",
     "output_type": "stream",
     "text": [
      "Requirement already satisfied: boto in /usr/local/lib/python3.6/site-packages (2.49.0)\n",
      "Note: you may need to restart the kernel to use updated packages.\n"
     ]
    }
   ],
   "source": [
    "pip install boto"
   ]
  },
  {
   "cell_type": "code",
   "execution_count": 2,
   "metadata": {},
   "outputs": [],
   "source": [
    "import boto\n",
    "import boto.s3.connection"
   ]
  },
  {
   "cell_type": "code",
   "execution_count": 3,
   "metadata": {},
   "outputs": [
    {
     "name": "stdout",
     "output_type": "stream",
     "text": [
      "Create connection\n"
     ]
    }
   ],
   "source": [
    "access_key = '2D3TMQFNVMR8ALA64QMY'\n",
    "secret_key = '3NOqfW2G7Av7EKJMofys2Tp2r7gsG8dpgG1LbmtI'\n",
    "\n",
    "conn = boto.connect_s3(\n",
    "        aws_access_key_id = access_key,\n",
    "        aws_secret_access_key = secret_key,\n",
    "        host = '192.168.7.130',\n",
    "        port = 30012,\n",
    "        is_secure=False,               # uncommmnt if you are not using ssl\n",
    "        calling_format = boto.s3.connection.OrdinaryCallingFormat(),\n",
    "        )\n",
    "print('Create connection')"
   ]
  },
  {
   "cell_type": "code",
   "execution_count": 4,
   "metadata": {},
   "outputs": [
    {
     "name": "stdout",
     "output_type": "stream",
     "text": [
      "Get bucket size: 0\n"
     ]
    }
   ],
   "source": [
    "print('Get bucket size:', len(conn.get_all_buckets()))\n",
    "for bucket in conn.get_all_buckets():\n",
    "    print(\"{name}\\t{created}\".format(name = bucket.name, created = bucket.creation_date))"
   ]
  },
  {
   "cell_type": "code",
   "execution_count": 5,
   "metadata": {},
   "outputs": [
    {
     "name": "stdout",
     "output_type": "stream",
     "text": [
      "Create bucket: my-new-bucket\n"
     ]
    }
   ],
   "source": [
    "bucket = conn.create_bucket('my-new-bucket')\n",
    "print('Create bucket:', bucket.name)"
   ]
  },
  {
   "cell_type": "code",
   "execution_count": 6,
   "metadata": {},
   "outputs": [
    {
     "name": "stdout",
     "output_type": "stream",
     "text": [
      "Create Key: hello.txt\n",
      "Create Key: hello/hello.txt\n"
     ]
    }
   ],
   "source": [
    "key = bucket.new_key('hello.txt')\n",
    "key.set_contents_from_string('Hello World!')\n",
    "print('Create Key:', key.name)\n",
    "\n",
    "key = bucket.new_key('hello/hello.txt')\n",
    "key.set_contents_from_string('Hello World!')\n",
    "print('Create Key:', key.name)"
   ]
  },
  {
   "cell_type": "code",
   "execution_count": 7,
   "metadata": {},
   "outputs": [
    {
     "name": "stdout",
     "output_type": "stream",
     "text": [
      "hello.txt\t12\t2020-07-22T06:51:15.050Z\n",
      "hello/hello.txt\t12\t2020-07-22T06:51:15.096Z\n"
     ]
    }
   ],
   "source": [
    "for key in bucket.list():\n",
    "        print(\"{name}\\t{size}\\t{modified}\".format(\n",
    "                name = key.name,\n",
    "                size = key.size,\n",
    "                modified = key.last_modified,\n",
    "                ))"
   ]
  },
  {
   "cell_type": "code",
   "execution_count": 8,
   "metadata": {},
   "outputs": [
    {
     "name": "stdout",
     "output_type": "stream",
     "text": [
      "Download file: /home/hshwang/hello.txt\n"
     ]
    }
   ],
   "source": [
    "key = bucket.get_key('hello/hello.txt')\n",
    "key.get_contents_to_filename('/home/hshwang/hello.txt')\n",
    "print('Download file: /home/hshwang/hello.txt')"
   ]
  },
  {
   "cell_type": "code",
   "execution_count": 9,
   "metadata": {},
   "outputs": [
    {
     "name": "stdout",
     "output_type": "stream",
     "text": [
      "Delete key: hello.txt\n",
      "Delete key: hello/hello.txt\n"
     ]
    }
   ],
   "source": [
    "for key in bucket.list():\n",
    "    bucket.delete_key(key.name)\n",
    "    print('Delete key:', key.name)"
   ]
  },
  {
   "cell_type": "code",
   "execution_count": 10,
   "metadata": {},
   "outputs": [
    {
     "name": "stdout",
     "output_type": "stream",
     "text": [
      "Delete buket: my-new-bucket\n"
     ]
    }
   ],
   "source": [
    "conn.delete_bucket(bucket.name)\n",
    "print('Delete buket:', bucket.name)"
   ]
  },
  {
   "cell_type": "code",
   "execution_count": null,
   "metadata": {},
   "outputs": [],
   "source": []
  }
 ],
 "metadata": {
  "kernelspec": {
   "display_name": "Python 3",
   "language": "python",
   "name": "python3"
  },
  "language_info": {
   "codemirror_mode": {
    "name": "ipython",
    "version": 3
   },
   "file_extension": ".py",
   "mimetype": "text/x-python",
   "name": "python",
   "nbconvert_exporter": "python",
   "pygments_lexer": "ipython3",
   "version": "3.6.11"
  }
 },
 "nbformat": 4,
 "nbformat_minor": 4
}